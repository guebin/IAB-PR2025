{
 "cells": [
  {
   "cell_type": "markdown",
   "id": "bf6b38ec-ee06-4a2b-a387-015aca323ade",
   "metadata": {},
   "source": [
    "# 1wk-1"
   ]
  },
  {
   "cell_type": "markdown",
   "id": "d1db0865-feb0-46ec-8461-bc2f0f9ce9ce",
   "metadata": {},
   "source": [
    "## 1. R은 좋은 계산기이다. "
   ]
  },
  {
   "cell_type": "markdown",
   "id": "0d730e67-6285-473e-9e82-813b6ddb8563",
   "metadata": {},
   "source": [
    "**`2025수능-6`.** $\\cos \\left(\\frac{\\pi}{2} + \\theta \\right) = -\\frac{1}{5}$\n",
    "일 때, $\\frac{\\sin\\theta}{1 - \\cos^2\\theta}$\n",
    "의 값은? **[3점]**\n",
    "\n",
    "1. $-5$  \n",
    "2. $-\\sqrt{5}$  \n",
    "3. $0$\n",
    "4. $\\sqrt{5}$\n",
    "5. $5$"
   ]
  },
  {
   "cell_type": "markdown",
   "id": "843419cc-697c-414f-9acb-40b0550ccf32",
   "metadata": {},
   "source": [
    "(풀이1)"
   ]
  },
  {
   "cell_type": "code",
   "execution_count": 144,
   "id": "c0685fc3-b316-4d52-b270-323783c7956b",
   "metadata": {},
   "outputs": [
    {
     "data": {
      "text/html": [
       "-0.200229984721771"
      ],
      "text/latex": [
       "-0.200229984721771"
      ],
      "text/markdown": [
       "-0.200229984721771"
      ],
      "text/plain": [
       "[1] -0.20023"
      ]
     },
     "metadata": {},
     "output_type": "display_data"
    }
   ],
   "source": [
    "theta = 2.94\n",
    "cos(pi/2+ theta)"
   ]
  },
  {
   "cell_type": "code",
   "execution_count": 145,
   "id": "6603d358-34f7-405f-a49b-8b1a6a71985e",
   "metadata": {},
   "outputs": [
    {
     "data": {
      "text/html": [
       "4.99425698598313"
      ],
      "text/latex": [
       "4.99425698598313"
      ],
      "text/markdown": [
       "4.99425698598313"
      ],
      "text/plain": [
       "[1] 4.994257"
      ]
     },
     "metadata": {},
     "output_type": "display_data"
    }
   ],
   "source": [
    "sin(theta)/(1-cos(theta)^2)"
   ]
  },
  {
   "cell_type": "markdown",
   "id": "0433caa7-7e08-49da-a491-43e45916946c",
   "metadata": {},
   "source": [
    "(풀이2)"
   ]
  },
  {
   "cell_type": "code",
   "execution_count": 146,
   "id": "6fffaf4f-c87b-4fc4-a70d-a06744409a6b",
   "metadata": {},
   "outputs": [
    {
     "data": {
      "text/html": [
       "0.201357920790331"
      ],
      "text/latex": [
       "0.201357920790331"
      ],
      "text/markdown": [
       "0.201357920790331"
      ],
      "text/plain": [
       "[1] 0.2013579"
      ]
     },
     "metadata": {},
     "output_type": "display_data"
    }
   ],
   "source": [
    "acos(-1/5) - pi/2"
   ]
  },
  {
   "cell_type": "code",
   "execution_count": 147,
   "id": "7596732f-4991-4009-9393-cb58b62c52d2",
   "metadata": {},
   "outputs": [
    {
     "data": {
      "text/html": [
       "5"
      ],
      "text/latex": [
       "5"
      ],
      "text/markdown": [
       "5"
      ],
      "text/plain": [
       "[1] 5"
      ]
     },
     "metadata": {},
     "output_type": "display_data"
    }
   ],
   "source": [
    "sin(0.201357920790331)/(1-cos(0.201357920790331)^2)"
   ]
  },
  {
   "cell_type": "markdown",
   "id": "79a537eb-e1be-4f68-abc3-f4d07927ef4c",
   "metadata": {},
   "source": [
    "이걸 하나로 묶으면.. "
   ]
  },
  {
   "cell_type": "code",
   "execution_count": 148,
   "id": "831c6bd1-03ac-45fd-b1ff-2d2f1cff9216",
   "metadata": {},
   "outputs": [],
   "source": [
    "solve <- function(input){\n",
    "    theta = acos(input) - pi/2\n",
    "    output = sin(theta)/(1-cos(theta)^2)\n",
    "    return(output)\n",
    "}"
   ]
  },
  {
   "cell_type": "code",
   "execution_count": 149,
   "id": "74e011de-8be5-47a2-aae9-38255909f486",
   "metadata": {},
   "outputs": [
    {
     "data": {
      "text/html": [
       "5"
      ],
      "text/latex": [
       "5"
      ],
      "text/markdown": [
       "5"
      ],
      "text/plain": [
       "[1] 5"
      ]
     },
     "metadata": {},
     "output_type": "display_data"
    }
   ],
   "source": [
    "solve(-0.2)"
   ]
  },
  {
   "cell_type": "markdown",
   "id": "9623b58a-1e6f-4c1b-b783-846f06d19ca8",
   "metadata": {},
   "source": [
    "(풀이3)"
   ]
  },
  {
   "cell_type": "code",
   "execution_count": 150,
   "id": "2d0fa7df-072b-4e92-9330-a2c6aa04245c",
   "metadata": {},
   "outputs": [
    {
     "data": {
      "text/html": [
       "<style>\n",
       ".list-inline {list-style: none; margin:0; padding: 0}\n",
       ".list-inline>li {display: inline-block}\n",
       ".list-inline>li:not(:last-child)::after {content: \"\\00b7\"; padding: 0 .5ex}\n",
       "</style>\n",
       "<ol class=list-inline><li>0</li><li>0.01</li><li>0.02</li><li>0.03</li><li>0.04</li><li>0.05</li><li>0.06</li><li>0.07</li><li>0.08</li><li>0.09</li><li>0.1</li><li>0.11</li><li>0.12</li><li>0.13</li><li>0.14</li><li>0.15</li><li>0.16</li><li>0.17</li><li>0.18</li><li>0.19</li><li>0.2</li><li>0.21</li><li>0.22</li><li>0.23</li><li>0.24</li><li>0.25</li><li>0.26</li><li>0.27</li><li>0.28</li><li>0.29</li><li>0.3</li><li>0.31</li><li>0.32</li><li>0.33</li><li>0.34</li><li>0.35</li><li>0.36</li><li>0.37</li><li>0.38</li><li>0.39</li><li>0.4</li><li>0.41</li><li>0.42</li><li>0.43</li><li>0.44</li><li>0.45</li><li>0.46</li><li>0.47</li><li>0.48</li><li>0.49</li><li>0.5</li><li>0.51</li><li>0.52</li><li>0.53</li><li>0.54</li><li>0.55</li><li>0.56</li><li>0.57</li><li>0.58</li><li>0.59</li><li>0.6</li><li>0.61</li><li>0.62</li><li>0.63</li><li>0.64</li><li>0.65</li><li>0.66</li><li>0.67</li><li>0.68</li><li>0.69</li><li>0.7</li><li>0.71</li><li>0.72</li><li>0.73</li><li>0.74</li><li>0.75</li><li>0.76</li><li>0.77</li><li>0.78</li><li>0.79</li><li>0.8</li><li>0.81</li><li>0.82</li><li>0.83</li><li>0.84</li><li>0.85</li><li>0.86</li><li>0.87</li><li>0.88</li><li>0.89</li><li>0.9</li><li>0.91</li><li>0.92</li><li>0.93</li><li>0.94</li><li>0.95</li><li>0.96</li><li>0.97</li><li>0.98</li><li>0.99</li><li>1</li><li>1.01</li><li>1.02</li><li>1.03</li><li>1.04</li><li>1.05</li><li>1.06</li><li>1.07</li><li>1.08</li><li>1.09</li><li>1.1</li><li>1.11</li><li>1.12</li><li>1.13</li><li>1.14</li><li>1.15</li><li>1.16</li><li>1.17</li><li>1.18</li><li>1.19</li><li>1.2</li><li>1.21</li><li>1.22</li><li>1.23</li><li>1.24</li><li>1.25</li><li>1.26</li><li>1.27</li><li>1.28</li><li>1.29</li><li>1.3</li><li>1.31</li><li>1.32</li><li>1.33</li><li>1.34</li><li>1.35</li><li>1.36</li><li>1.37</li><li>1.38</li><li>1.39</li><li>1.4</li><li>1.41</li><li>1.42</li><li>1.43</li><li>1.44</li><li>1.45</li><li>1.46</li><li>1.47</li><li>1.48</li><li>1.49</li><li>1.5</li><li>1.51</li><li>1.52</li><li>1.53</li><li>1.54</li><li>1.55</li><li>1.56</li><li>1.57</li><li>1.58</li><li>1.59</li><li>1.6</li><li>1.61</li><li>1.62</li><li>1.63</li><li>1.64</li><li>1.65</li><li>1.66</li><li>1.67</li><li>1.68</li><li>1.69</li><li>1.7</li><li>1.71</li><li>1.72</li><li>1.73</li><li>1.74</li><li>1.75</li><li>1.76</li><li>1.77</li><li>1.78</li><li>1.79</li><li>1.8</li><li>1.81</li><li>1.82</li><li>1.83</li><li>1.84</li><li>1.85</li><li>1.86</li><li>1.87</li><li>1.88</li><li>1.89</li><li>1.9</li><li>1.91</li><li>1.92</li><li>1.93</li><li>1.94</li><li>1.95</li><li>1.96</li><li>1.97</li><li>1.98</li><li>1.99</li><li>2</li><li>2.01</li><li>2.02</li><li>2.03</li><li>2.04</li><li>2.05</li><li>2.06</li><li>2.07</li><li>2.08</li><li>2.09</li><li>2.1</li><li>2.11</li><li>2.12</li><li>2.13</li><li>2.14</li><li>2.15</li><li>2.16</li><li>2.17</li><li>2.18</li><li>2.19</li><li>2.2</li><li>2.21</li><li>2.22</li><li>2.23</li><li>2.24</li><li>2.25</li><li>2.26</li><li>2.27</li><li>2.28</li><li>2.29</li><li>2.3</li><li>2.31</li><li>2.32</li><li>2.33</li><li>2.34</li><li>2.35</li><li>2.36</li><li>2.37</li><li>2.38</li><li>2.39</li><li>2.4</li><li>2.41</li><li>2.42</li><li>2.43</li><li>2.44</li><li>2.45</li><li>2.46</li><li>2.47</li><li>2.48</li><li>2.49</li><li>2.5</li><li>2.51</li><li>2.52</li><li>2.53</li><li>2.54</li><li>2.55</li><li>2.56</li><li>2.57</li><li>2.58</li><li>2.59</li><li>2.6</li><li>2.61</li><li>2.62</li><li>2.63</li><li>2.64</li><li>2.65</li><li>2.66</li><li>2.67</li><li>2.68</li><li>2.69</li><li>2.7</li><li>2.71</li><li>2.72</li><li>2.73</li><li>2.74</li><li>2.75</li><li>2.76</li><li>2.77</li><li>2.78</li><li>2.79</li><li>2.8</li><li>2.81</li><li>2.82</li><li>2.83</li><li>2.84</li><li>2.85</li><li>2.86</li><li>2.87</li><li>2.88</li><li>2.89</li><li>2.9</li><li>2.91</li><li>2.92</li><li>2.93</li><li>2.94</li><li>2.95</li><li>2.96</li><li>2.97</li><li>2.98</li><li>2.99</li><li>3</li></ol>\n"
      ],
      "text/latex": [
       "\\begin{enumerate*}\n",
       "\\item 0\n",
       "\\item 0.01\n",
       "\\item 0.02\n",
       "\\item 0.03\n",
       "\\item 0.04\n",
       "\\item 0.05\n",
       "\\item 0.06\n",
       "\\item 0.07\n",
       "\\item 0.08\n",
       "\\item 0.09\n",
       "\\item 0.1\n",
       "\\item 0.11\n",
       "\\item 0.12\n",
       "\\item 0.13\n",
       "\\item 0.14\n",
       "\\item 0.15\n",
       "\\item 0.16\n",
       "\\item 0.17\n",
       "\\item 0.18\n",
       "\\item 0.19\n",
       "\\item 0.2\n",
       "\\item 0.21\n",
       "\\item 0.22\n",
       "\\item 0.23\n",
       "\\item 0.24\n",
       "\\item 0.25\n",
       "\\item 0.26\n",
       "\\item 0.27\n",
       "\\item 0.28\n",
       "\\item 0.29\n",
       "\\item 0.3\n",
       "\\item 0.31\n",
       "\\item 0.32\n",
       "\\item 0.33\n",
       "\\item 0.34\n",
       "\\item 0.35\n",
       "\\item 0.36\n",
       "\\item 0.37\n",
       "\\item 0.38\n",
       "\\item 0.39\n",
       "\\item 0.4\n",
       "\\item 0.41\n",
       "\\item 0.42\n",
       "\\item 0.43\n",
       "\\item 0.44\n",
       "\\item 0.45\n",
       "\\item 0.46\n",
       "\\item 0.47\n",
       "\\item 0.48\n",
       "\\item 0.49\n",
       "\\item 0.5\n",
       "\\item 0.51\n",
       "\\item 0.52\n",
       "\\item 0.53\n",
       "\\item 0.54\n",
       "\\item 0.55\n",
       "\\item 0.56\n",
       "\\item 0.57\n",
       "\\item 0.58\n",
       "\\item 0.59\n",
       "\\item 0.6\n",
       "\\item 0.61\n",
       "\\item 0.62\n",
       "\\item 0.63\n",
       "\\item 0.64\n",
       "\\item 0.65\n",
       "\\item 0.66\n",
       "\\item 0.67\n",
       "\\item 0.68\n",
       "\\item 0.69\n",
       "\\item 0.7\n",
       "\\item 0.71\n",
       "\\item 0.72\n",
       "\\item 0.73\n",
       "\\item 0.74\n",
       "\\item 0.75\n",
       "\\item 0.76\n",
       "\\item 0.77\n",
       "\\item 0.78\n",
       "\\item 0.79\n",
       "\\item 0.8\n",
       "\\item 0.81\n",
       "\\item 0.82\n",
       "\\item 0.83\n",
       "\\item 0.84\n",
       "\\item 0.85\n",
       "\\item 0.86\n",
       "\\item 0.87\n",
       "\\item 0.88\n",
       "\\item 0.89\n",
       "\\item 0.9\n",
       "\\item 0.91\n",
       "\\item 0.92\n",
       "\\item 0.93\n",
       "\\item 0.94\n",
       "\\item 0.95\n",
       "\\item 0.96\n",
       "\\item 0.97\n",
       "\\item 0.98\n",
       "\\item 0.99\n",
       "\\item 1\n",
       "\\item 1.01\n",
       "\\item 1.02\n",
       "\\item 1.03\n",
       "\\item 1.04\n",
       "\\item 1.05\n",
       "\\item 1.06\n",
       "\\item 1.07\n",
       "\\item 1.08\n",
       "\\item 1.09\n",
       "\\item 1.1\n",
       "\\item 1.11\n",
       "\\item 1.12\n",
       "\\item 1.13\n",
       "\\item 1.14\n",
       "\\item 1.15\n",
       "\\item 1.16\n",
       "\\item 1.17\n",
       "\\item 1.18\n",
       "\\item 1.19\n",
       "\\item 1.2\n",
       "\\item 1.21\n",
       "\\item 1.22\n",
       "\\item 1.23\n",
       "\\item 1.24\n",
       "\\item 1.25\n",
       "\\item 1.26\n",
       "\\item 1.27\n",
       "\\item 1.28\n",
       "\\item 1.29\n",
       "\\item 1.3\n",
       "\\item 1.31\n",
       "\\item 1.32\n",
       "\\item 1.33\n",
       "\\item 1.34\n",
       "\\item 1.35\n",
       "\\item 1.36\n",
       "\\item 1.37\n",
       "\\item 1.38\n",
       "\\item 1.39\n",
       "\\item 1.4\n",
       "\\item 1.41\n",
       "\\item 1.42\n",
       "\\item 1.43\n",
       "\\item 1.44\n",
       "\\item 1.45\n",
       "\\item 1.46\n",
       "\\item 1.47\n",
       "\\item 1.48\n",
       "\\item 1.49\n",
       "\\item 1.5\n",
       "\\item 1.51\n",
       "\\item 1.52\n",
       "\\item 1.53\n",
       "\\item 1.54\n",
       "\\item 1.55\n",
       "\\item 1.56\n",
       "\\item 1.57\n",
       "\\item 1.58\n",
       "\\item 1.59\n",
       "\\item 1.6\n",
       "\\item 1.61\n",
       "\\item 1.62\n",
       "\\item 1.63\n",
       "\\item 1.64\n",
       "\\item 1.65\n",
       "\\item 1.66\n",
       "\\item 1.67\n",
       "\\item 1.68\n",
       "\\item 1.69\n",
       "\\item 1.7\n",
       "\\item 1.71\n",
       "\\item 1.72\n",
       "\\item 1.73\n",
       "\\item 1.74\n",
       "\\item 1.75\n",
       "\\item 1.76\n",
       "\\item 1.77\n",
       "\\item 1.78\n",
       "\\item 1.79\n",
       "\\item 1.8\n",
       "\\item 1.81\n",
       "\\item 1.82\n",
       "\\item 1.83\n",
       "\\item 1.84\n",
       "\\item 1.85\n",
       "\\item 1.86\n",
       "\\item 1.87\n",
       "\\item 1.88\n",
       "\\item 1.89\n",
       "\\item 1.9\n",
       "\\item 1.91\n",
       "\\item 1.92\n",
       "\\item 1.93\n",
       "\\item 1.94\n",
       "\\item 1.95\n",
       "\\item 1.96\n",
       "\\item 1.97\n",
       "\\item 1.98\n",
       "\\item 1.99\n",
       "\\item 2\n",
       "\\item 2.01\n",
       "\\item 2.02\n",
       "\\item 2.03\n",
       "\\item 2.04\n",
       "\\item 2.05\n",
       "\\item 2.06\n",
       "\\item 2.07\n",
       "\\item 2.08\n",
       "\\item 2.09\n",
       "\\item 2.1\n",
       "\\item 2.11\n",
       "\\item 2.12\n",
       "\\item 2.13\n",
       "\\item 2.14\n",
       "\\item 2.15\n",
       "\\item 2.16\n",
       "\\item 2.17\n",
       "\\item 2.18\n",
       "\\item 2.19\n",
       "\\item 2.2\n",
       "\\item 2.21\n",
       "\\item 2.22\n",
       "\\item 2.23\n",
       "\\item 2.24\n",
       "\\item 2.25\n",
       "\\item 2.26\n",
       "\\item 2.27\n",
       "\\item 2.28\n",
       "\\item 2.29\n",
       "\\item 2.3\n",
       "\\item 2.31\n",
       "\\item 2.32\n",
       "\\item 2.33\n",
       "\\item 2.34\n",
       "\\item 2.35\n",
       "\\item 2.36\n",
       "\\item 2.37\n",
       "\\item 2.38\n",
       "\\item 2.39\n",
       "\\item 2.4\n",
       "\\item 2.41\n",
       "\\item 2.42\n",
       "\\item 2.43\n",
       "\\item 2.44\n",
       "\\item 2.45\n",
       "\\item 2.46\n",
       "\\item 2.47\n",
       "\\item 2.48\n",
       "\\item 2.49\n",
       "\\item 2.5\n",
       "\\item 2.51\n",
       "\\item 2.52\n",
       "\\item 2.53\n",
       "\\item 2.54\n",
       "\\item 2.55\n",
       "\\item 2.56\n",
       "\\item 2.57\n",
       "\\item 2.58\n",
       "\\item 2.59\n",
       "\\item 2.6\n",
       "\\item 2.61\n",
       "\\item 2.62\n",
       "\\item 2.63\n",
       "\\item 2.64\n",
       "\\item 2.65\n",
       "\\item 2.66\n",
       "\\item 2.67\n",
       "\\item 2.68\n",
       "\\item 2.69\n",
       "\\item 2.7\n",
       "\\item 2.71\n",
       "\\item 2.72\n",
       "\\item 2.73\n",
       "\\item 2.74\n",
       "\\item 2.75\n",
       "\\item 2.76\n",
       "\\item 2.77\n",
       "\\item 2.78\n",
       "\\item 2.79\n",
       "\\item 2.8\n",
       "\\item 2.81\n",
       "\\item 2.82\n",
       "\\item 2.83\n",
       "\\item 2.84\n",
       "\\item 2.85\n",
       "\\item 2.86\n",
       "\\item 2.87\n",
       "\\item 2.88\n",
       "\\item 2.89\n",
       "\\item 2.9\n",
       "\\item 2.91\n",
       "\\item 2.92\n",
       "\\item 2.93\n",
       "\\item 2.94\n",
       "\\item 2.95\n",
       "\\item 2.96\n",
       "\\item 2.97\n",
       "\\item 2.98\n",
       "\\item 2.99\n",
       "\\item 3\n",
       "\\end{enumerate*}\n"
      ],
      "text/markdown": [
       "1. 0\n",
       "2. 0.01\n",
       "3. 0.02\n",
       "4. 0.03\n",
       "5. 0.04\n",
       "6. 0.05\n",
       "7. 0.06\n",
       "8. 0.07\n",
       "9. 0.08\n",
       "10. 0.09\n",
       "11. 0.1\n",
       "12. 0.11\n",
       "13. 0.12\n",
       "14. 0.13\n",
       "15. 0.14\n",
       "16. 0.15\n",
       "17. 0.16\n",
       "18. 0.17\n",
       "19. 0.18\n",
       "20. 0.19\n",
       "21. 0.2\n",
       "22. 0.21\n",
       "23. 0.22\n",
       "24. 0.23\n",
       "25. 0.24\n",
       "26. 0.25\n",
       "27. 0.26\n",
       "28. 0.27\n",
       "29. 0.28\n",
       "30. 0.29\n",
       "31. 0.3\n",
       "32. 0.31\n",
       "33. 0.32\n",
       "34. 0.33\n",
       "35. 0.34\n",
       "36. 0.35\n",
       "37. 0.36\n",
       "38. 0.37\n",
       "39. 0.38\n",
       "40. 0.39\n",
       "41. 0.4\n",
       "42. 0.41\n",
       "43. 0.42\n",
       "44. 0.43\n",
       "45. 0.44\n",
       "46. 0.45\n",
       "47. 0.46\n",
       "48. 0.47\n",
       "49. 0.48\n",
       "50. 0.49\n",
       "51. 0.5\n",
       "52. 0.51\n",
       "53. 0.52\n",
       "54. 0.53\n",
       "55. 0.54\n",
       "56. 0.55\n",
       "57. 0.56\n",
       "58. 0.57\n",
       "59. 0.58\n",
       "60. 0.59\n",
       "61. 0.6\n",
       "62. 0.61\n",
       "63. 0.62\n",
       "64. 0.63\n",
       "65. 0.64\n",
       "66. 0.65\n",
       "67. 0.66\n",
       "68. 0.67\n",
       "69. 0.68\n",
       "70. 0.69\n",
       "71. 0.7\n",
       "72. 0.71\n",
       "73. 0.72\n",
       "74. 0.73\n",
       "75. 0.74\n",
       "76. 0.75\n",
       "77. 0.76\n",
       "78. 0.77\n",
       "79. 0.78\n",
       "80. 0.79\n",
       "81. 0.8\n",
       "82. 0.81\n",
       "83. 0.82\n",
       "84. 0.83\n",
       "85. 0.84\n",
       "86. 0.85\n",
       "87. 0.86\n",
       "88. 0.87\n",
       "89. 0.88\n",
       "90. 0.89\n",
       "91. 0.9\n",
       "92. 0.91\n",
       "93. 0.92\n",
       "94. 0.93\n",
       "95. 0.94\n",
       "96. 0.95\n",
       "97. 0.96\n",
       "98. 0.97\n",
       "99. 0.98\n",
       "100. 0.99\n",
       "101. 1\n",
       "102. 1.01\n",
       "103. 1.02\n",
       "104. 1.03\n",
       "105. 1.04\n",
       "106. 1.05\n",
       "107. 1.06\n",
       "108. 1.07\n",
       "109. 1.08\n",
       "110. 1.09\n",
       "111. 1.1\n",
       "112. 1.11\n",
       "113. 1.12\n",
       "114. 1.13\n",
       "115. 1.14\n",
       "116. 1.15\n",
       "117. 1.16\n",
       "118. 1.17\n",
       "119. 1.18\n",
       "120. 1.19\n",
       "121. 1.2\n",
       "122. 1.21\n",
       "123. 1.22\n",
       "124. 1.23\n",
       "125. 1.24\n",
       "126. 1.25\n",
       "127. 1.26\n",
       "128. 1.27\n",
       "129. 1.28\n",
       "130. 1.29\n",
       "131. 1.3\n",
       "132. 1.31\n",
       "133. 1.32\n",
       "134. 1.33\n",
       "135. 1.34\n",
       "136. 1.35\n",
       "137. 1.36\n",
       "138. 1.37\n",
       "139. 1.38\n",
       "140. 1.39\n",
       "141. 1.4\n",
       "142. 1.41\n",
       "143. 1.42\n",
       "144. 1.43\n",
       "145. 1.44\n",
       "146. 1.45\n",
       "147. 1.46\n",
       "148. 1.47\n",
       "149. 1.48\n",
       "150. 1.49\n",
       "151. 1.5\n",
       "152. 1.51\n",
       "153. 1.52\n",
       "154. 1.53\n",
       "155. 1.54\n",
       "156. 1.55\n",
       "157. 1.56\n",
       "158. 1.57\n",
       "159. 1.58\n",
       "160. 1.59\n",
       "161. 1.6\n",
       "162. 1.61\n",
       "163. 1.62\n",
       "164. 1.63\n",
       "165. 1.64\n",
       "166. 1.65\n",
       "167. 1.66\n",
       "168. 1.67\n",
       "169. 1.68\n",
       "170. 1.69\n",
       "171. 1.7\n",
       "172. 1.71\n",
       "173. 1.72\n",
       "174. 1.73\n",
       "175. 1.74\n",
       "176. 1.75\n",
       "177. 1.76\n",
       "178. 1.77\n",
       "179. 1.78\n",
       "180. 1.79\n",
       "181. 1.8\n",
       "182. 1.81\n",
       "183. 1.82\n",
       "184. 1.83\n",
       "185. 1.84\n",
       "186. 1.85\n",
       "187. 1.86\n",
       "188. 1.87\n",
       "189. 1.88\n",
       "190. 1.89\n",
       "191. 1.9\n",
       "192. 1.91\n",
       "193. 1.92\n",
       "194. 1.93\n",
       "195. 1.94\n",
       "196. 1.95\n",
       "197. 1.96\n",
       "198. 1.97\n",
       "199. 1.98\n",
       "200. 1.99\n",
       "201. 2\n",
       "202. 2.01\n",
       "203. 2.02\n",
       "204. 2.03\n",
       "205. 2.04\n",
       "206. 2.05\n",
       "207. 2.06\n",
       "208. 2.07\n",
       "209. 2.08\n",
       "210. 2.09\n",
       "211. 2.1\n",
       "212. 2.11\n",
       "213. 2.12\n",
       "214. 2.13\n",
       "215. 2.14\n",
       "216. 2.15\n",
       "217. 2.16\n",
       "218. 2.17\n",
       "219. 2.18\n",
       "220. 2.19\n",
       "221. 2.2\n",
       "222. 2.21\n",
       "223. 2.22\n",
       "224. 2.23\n",
       "225. 2.24\n",
       "226. 2.25\n",
       "227. 2.26\n",
       "228. 2.27\n",
       "229. 2.28\n",
       "230. 2.29\n",
       "231. 2.3\n",
       "232. 2.31\n",
       "233. 2.32\n",
       "234. 2.33\n",
       "235. 2.34\n",
       "236. 2.35\n",
       "237. 2.36\n",
       "238. 2.37\n",
       "239. 2.38\n",
       "240. 2.39\n",
       "241. 2.4\n",
       "242. 2.41\n",
       "243. 2.42\n",
       "244. 2.43\n",
       "245. 2.44\n",
       "246. 2.45\n",
       "247. 2.46\n",
       "248. 2.47\n",
       "249. 2.48\n",
       "250. 2.49\n",
       "251. 2.5\n",
       "252. 2.51\n",
       "253. 2.52\n",
       "254. 2.53\n",
       "255. 2.54\n",
       "256. 2.55\n",
       "257. 2.56\n",
       "258. 2.57\n",
       "259. 2.58\n",
       "260. 2.59\n",
       "261. 2.6\n",
       "262. 2.61\n",
       "263. 2.62\n",
       "264. 2.63\n",
       "265. 2.64\n",
       "266. 2.65\n",
       "267. 2.66\n",
       "268. 2.67\n",
       "269. 2.68\n",
       "270. 2.69\n",
       "271. 2.7\n",
       "272. 2.71\n",
       "273. 2.72\n",
       "274. 2.73\n",
       "275. 2.74\n",
       "276. 2.75\n",
       "277. 2.76\n",
       "278. 2.77\n",
       "279. 2.78\n",
       "280. 2.79\n",
       "281. 2.8\n",
       "282. 2.81\n",
       "283. 2.82\n",
       "284. 2.83\n",
       "285. 2.84\n",
       "286. 2.85\n",
       "287. 2.86\n",
       "288. 2.87\n",
       "289. 2.88\n",
       "290. 2.89\n",
       "291. 2.9\n",
       "292. 2.91\n",
       "293. 2.92\n",
       "294. 2.93\n",
       "295. 2.94\n",
       "296. 2.95\n",
       "297. 2.96\n",
       "298. 2.97\n",
       "299. 2.98\n",
       "300. 2.99\n",
       "301. 3\n",
       "\n",
       "\n"
      ],
      "text/plain": [
       "  [1] 0.00 0.01 0.02 0.03 0.04 0.05 0.06 0.07 0.08 0.09 0.10 0.11 0.12 0.13 0.14\n",
       " [16] 0.15 0.16 0.17 0.18 0.19 0.20 0.21 0.22 0.23 0.24 0.25 0.26 0.27 0.28 0.29\n",
       " [31] 0.30 0.31 0.32 0.33 0.34 0.35 0.36 0.37 0.38 0.39 0.40 0.41 0.42 0.43 0.44\n",
       " [46] 0.45 0.46 0.47 0.48 0.49 0.50 0.51 0.52 0.53 0.54 0.55 0.56 0.57 0.58 0.59\n",
       " [61] 0.60 0.61 0.62 0.63 0.64 0.65 0.66 0.67 0.68 0.69 0.70 0.71 0.72 0.73 0.74\n",
       " [76] 0.75 0.76 0.77 0.78 0.79 0.80 0.81 0.82 0.83 0.84 0.85 0.86 0.87 0.88 0.89\n",
       " [91] 0.90 0.91 0.92 0.93 0.94 0.95 0.96 0.97 0.98 0.99 1.00 1.01 1.02 1.03 1.04\n",
       "[106] 1.05 1.06 1.07 1.08 1.09 1.10 1.11 1.12 1.13 1.14 1.15 1.16 1.17 1.18 1.19\n",
       "[121] 1.20 1.21 1.22 1.23 1.24 1.25 1.26 1.27 1.28 1.29 1.30 1.31 1.32 1.33 1.34\n",
       "[136] 1.35 1.36 1.37 1.38 1.39 1.40 1.41 1.42 1.43 1.44 1.45 1.46 1.47 1.48 1.49\n",
       "[151] 1.50 1.51 1.52 1.53 1.54 1.55 1.56 1.57 1.58 1.59 1.60 1.61 1.62 1.63 1.64\n",
       "[166] 1.65 1.66 1.67 1.68 1.69 1.70 1.71 1.72 1.73 1.74 1.75 1.76 1.77 1.78 1.79\n",
       "[181] 1.80 1.81 1.82 1.83 1.84 1.85 1.86 1.87 1.88 1.89 1.90 1.91 1.92 1.93 1.94\n",
       "[196] 1.95 1.96 1.97 1.98 1.99 2.00 2.01 2.02 2.03 2.04 2.05 2.06 2.07 2.08 2.09\n",
       "[211] 2.10 2.11 2.12 2.13 2.14 2.15 2.16 2.17 2.18 2.19 2.20 2.21 2.22 2.23 2.24\n",
       "[226] 2.25 2.26 2.27 2.28 2.29 2.30 2.31 2.32 2.33 2.34 2.35 2.36 2.37 2.38 2.39\n",
       "[241] 2.40 2.41 2.42 2.43 2.44 2.45 2.46 2.47 2.48 2.49 2.50 2.51 2.52 2.53 2.54\n",
       "[256] 2.55 2.56 2.57 2.58 2.59 2.60 2.61 2.62 2.63 2.64 2.65 2.66 2.67 2.68 2.69\n",
       "[271] 2.70 2.71 2.72 2.73 2.74 2.75 2.76 2.77 2.78 2.79 2.80 2.81 2.82 2.83 2.84\n",
       "[286] 2.85 2.86 2.87 2.88 2.89 2.90 2.91 2.92 2.93 2.94 2.95 2.96 2.97 2.98 2.99\n",
       "[301] 3.00"
      ]
     },
     "metadata": {},
     "output_type": "display_data"
    }
   ],
   "source": [
    "# theta = c(0.0, 0.1, 0.2, 0,3, 0.4, 0.5, 0.6, 0.7, 0.8, 0.9,\n",
    "#           1.0, 1.1, 1.2, 1,3, 1.4, 1.5, 1.6, 1.7, 1.8, 1.9,\n",
    "#           2.0, 2.1, 2.2, 2,3, 2.4, 2.5, 2.6, 2.7, 2.8, 2.9)\n",
    "theta = 0:300/100\n",
    "theta"
   ]
  },
  {
   "cell_type": "code",
   "execution_count": 151,
   "id": "f1ad6b13-c077-4fc4-810e-30376e152cf2",
   "metadata": {},
   "outputs": [
    {
     "data": {
      "image/png": "[encoded data removed]",
      "text/plain": [
       "plot without title"
      ]
     },
     "metadata": {
      "image/png": {
       "height": 420,
       "width": 420
      }
     },
     "output_type": "display_data"
    }
   ],
   "source": [
    "plot(theta,cos(pi/2+theta))\n",
    "abline(h=-0.2,col=2)"
   ]
  },
  {
   "cell_type": "markdown",
   "id": "fe666085-a3ec-47fd-8e3f-87305b219519",
   "metadata": {},
   "source": [
    "`#`"
   ]
  },
  {
   "cell_type": "markdown",
   "id": "dbdab092-2d0f-4754-9250-c11e23d85fca",
   "metadata": {},
   "source": [
    "## 2. 변수이름 선언 "
   ]
  },
  {
   "cell_type": "markdown",
   "id": "1a0695e3-e04e-43d6-b52f-9db0bb2df1e0",
   "metadata": {
    "tags": []
   },
   "source": [
    "### A. 변수이름에 어떠한 값을 넣는 방법"
   ]
  },
  {
   "cell_type": "markdown",
   "id": "139d768c-a910-4d0a-9db3-db07696e831f",
   "metadata": {},
   "source": [
    "`-` 방법1"
   ]
  },
  {
   "cell_type": "code",
   "execution_count": 152,
   "id": "ac16e0f2-49e1-4470-a598-b3140b0f7491",
   "metadata": {},
   "outputs": [],
   "source": [
    "d=1"
   ]
  },
  {
   "cell_type": "markdown",
   "id": "2a7c5d02-bdb4-4c0e-84a0-37b85bb0a6e6",
   "metadata": {},
   "source": [
    "`-` 방법2"
   ]
  },
  {
   "cell_type": "code",
   "execution_count": 153,
   "id": "809bd663-d26a-4516-8a76-46b26ff5f4df",
   "metadata": {},
   "outputs": [],
   "source": [
    "e <- 3"
   ]
  },
  {
   "cell_type": "markdown",
   "id": "ea607b01-81b6-451e-87e7-871c71acdd2e",
   "metadata": {},
   "source": [
    "### B. 잘못된 변수명"
   ]
  },
  {
   "cell_type": "markdown",
   "id": "2c4ec5bc-cd8b-44da-86c6-7ac22d49b731",
   "metadata": {},
   "source": [
    "`# 예제1` -- 특수문자 불가능 "
   ]
  },
  {
   "cell_type": "code",
   "execution_count": 154,
   "id": "0a15134e-7e3d-45b4-b088-4e965049f476",
   "metadata": {},
   "outputs": [
    {
     "ename": "ERROR",
     "evalue": "Error in parse(text = input): <text>:1:2: unexpected '!'\n1: a!\n     ^\n",
     "output_type": "error",
     "traceback": [
      "Error in parse(text = input): <text>:1:2: unexpected '!'\n1: a!\n     ^\nTraceback:\n"
     ]
    }
   ],
   "source": [
    "a! <- 3"
   ]
  },
  {
   "cell_type": "markdown",
   "id": "c7188edb-3365-478f-9882-35e549593a95",
   "metadata": {},
   "source": [
    "`#`"
   ]
  },
  {
   "cell_type": "markdown",
   "id": "7e22ccfb-d64a-47c1-84ff-5af3801b6e65",
   "metadata": {},
   "source": [
    "`# 예제2` -- 숫자로 시작하는 변수이름 불가능"
   ]
  },
  {
   "cell_type": "code",
   "execution_count": 155,
   "id": "4c4a7144-2a12-4f2d-9627-9ff1902c45c5",
   "metadata": {},
   "outputs": [
    {
     "ename": "ERROR",
     "evalue": "Error in parse(text = input): <text>:1:2: unexpected symbol\n1: 2a\n     ^\n",
     "output_type": "error",
     "traceback": [
      "Error in parse(text = input): <text>:1:2: unexpected symbol\n1: 2a\n     ^\nTraceback:\n"
     ]
    }
   ],
   "source": [
    "2a <- 3 "
   ]
  },
  {
   "cell_type": "code",
   "execution_count": 156,
   "id": "46a56669-3afa-4784-b9c7-9defc2f7dc08",
   "metadata": {},
   "outputs": [],
   "source": [
    "a2 <- 3 "
   ]
  },
  {
   "cell_type": "markdown",
   "id": "133f126f-16c3-4eb8-8960-592eccd08ace",
   "metadata": {},
   "source": [
    "- 이것은 가능 (숫자로 시작되면 안되는 것이지 숫자를 포함하지 말라는 의미는 아님)"
   ]
  },
  {
   "cell_type": "markdown",
   "id": "a00b0387-f848-4fb6-ac4e-1aa4bb0c0587",
   "metadata": {},
   "source": [
    "`#`"
   ]
  },
  {
   "cell_type": "markdown",
   "id": "76419b81-a376-4cf9-9020-144fa3d46380",
   "metadata": {},
   "source": [
    "`# 예제3` -- 띄어쓰기 불가능 "
   ]
  },
  {
   "cell_type": "code",
   "execution_count": 157,
   "id": "cb585fc8-70ba-4a07-91e7-63d4fb9fabaf",
   "metadata": {},
   "outputs": [
    {
     "ename": "ERROR",
     "evalue": "Error in parse(text = input): <text>:1:8: unexpected symbol\n1: Guebin Choi\n           ^\n",
     "output_type": "error",
     "traceback": [
      "Error in parse(text = input): <text>:1:8: unexpected symbol\n1: Guebin Choi\n           ^\nTraceback:\n"
     ]
    }
   ],
   "source": [
    "Guebin Choi <- 33 "
   ]
  },
  {
   "cell_type": "code",
   "execution_count": 158,
   "id": "8ffc2e66-5e45-4d6d-a739-3721e082eeba",
   "metadata": {},
   "outputs": [],
   "source": [
    "this_is_333 <- 333"
   ]
  },
  {
   "cell_type": "markdown",
   "id": "899010e8-59de-46ae-91a4-81b366f75807",
   "metadata": {},
   "source": [
    "- 띄어쓰기 대신 언더바(_)를 활용한다. "
   ]
  },
  {
   "cell_type": "code",
   "execution_count": 159,
   "id": "0a8f9526-fe60-4092-aef9-93db0b7a3b9e",
   "metadata": {},
   "outputs": [],
   "source": [
    "this.is.777 <- 777 "
   ]
  },
  {
   "cell_type": "markdown",
   "id": "5d002b6d-ae3d-4ad4-a7aa-1448a1a4273a",
   "metadata": {},
   "source": [
    "- 언더바 말고 닷(.)을 선호하는 사람도 있다. "
   ]
  },
  {
   "cell_type": "markdown",
   "id": "69d00b7d-6f14-4790-82d6-3fc84dc9ac27",
   "metadata": {},
   "source": [
    "`#`"
   ]
  },
  {
   "cell_type": "markdown",
   "id": "0f895fe9-0e59-408d-bb6d-5bba17b4d83c",
   "metadata": {},
   "source": [
    "`# 예제4` -- 언더바를 포함하는 것은 가능하지만, 언더바로 시작하는 변수명은 사용할 수 없다. `"
   ]
  },
  {
   "cell_type": "code",
   "execution_count": 160,
   "id": "8ad826df-f7a5-4408-b425-d5ce025e2fc0",
   "metadata": {},
   "outputs": [
    {
     "ename": "ERROR",
     "evalue": "Error in parse(text = input): <text>:1:2: unexpected symbol\n1: _x\n     ^\n",
     "output_type": "error",
     "traceback": [
      "Error in parse(text = input): <text>:1:2: unexpected symbol\n1: _x\n     ^\nTraceback:\n"
     ]
    }
   ],
   "source": [
    "_x <- 33"
   ]
  },
  {
   "cell_type": "markdown",
   "id": "e4b2a6e6-d91e-48fd-b17a-2ecf96cb29e0",
   "metadata": {},
   "source": [
    "`#`"
   ]
  },
  {
   "cell_type": "markdown",
   "id": "c8a01454-e276-43f3-814f-d72484fc8db1",
   "metadata": {},
   "source": [
    "`# 예제5` -- 사용할 수는 있지만 권장하지 않는 변수이름 "
   ]
  },
  {
   "cell_type": "code",
   "execution_count": 161,
   "id": "2a41998b-9052-4079-ae50-a3e4e2bd4962",
   "metadata": {},
   "outputs": [
    {
     "data": {
      "text/html": [
       "3.14159265358979"
      ],
      "text/latex": [
       "3.14159265358979"
      ],
      "text/markdown": [
       "3.14159265358979"
      ],
      "text/plain": [
       "[1] 3.141593"
      ]
     },
     "metadata": {},
     "output_type": "display_data"
    }
   ],
   "source": [
    "pi"
   ]
  },
  {
   "cell_type": "code",
   "execution_count": 162,
   "id": "e21fbeee-8df7-4d0f-8e5e-6e5174bcb286",
   "metadata": {},
   "outputs": [],
   "source": [
    "pi<-333"
   ]
  },
  {
   "cell_type": "code",
   "execution_count": 163,
   "id": "d03fc273-e0eb-411b-a34d-8d680d334615",
   "metadata": {},
   "outputs": [
    {
     "data": {
      "text/html": [
       "333"
      ],
      "text/latex": [
       "333"
      ],
      "text/markdown": [
       "333"
      ],
      "text/plain": [
       "[1] 333"
      ]
     },
     "metadata": {},
     "output_type": "display_data"
    }
   ],
   "source": [
    "pi"
   ]
  },
  {
   "cell_type": "markdown",
   "id": "38372d73-fe16-40e3-a90e-52cbe0be9797",
   "metadata": {},
   "source": [
    "## 3. 벡터의 선언"
   ]
  },
  {
   "cell_type": "markdown",
   "id": "fc98f732-d18d-4cfd-bece-8a0bf5066d88",
   "metadata": {},
   "source": [
    "`# 예제1` -- 직접 입력"
   ]
  },
  {
   "cell_type": "code",
   "execution_count": 164,
   "id": "03aee23a-036d-4907-88d6-b12062f6cd3d",
   "metadata": {},
   "outputs": [
    {
     "data": {
      "text/html": [
       "<style>\n",
       ".list-inline {list-style: none; margin:0; padding: 0}\n",
       ".list-inline>li {display: inline-block}\n",
       ".list-inline>li:not(:last-child)::after {content: \"\\00b7\"; padding: 0 .5ex}\n",
       "</style>\n",
       "<ol class=list-inline><li>1</li><li>2</li><li>3</li><li>3</li><li>4</li><li>5</li><li>2</li></ol>\n"
      ],
      "text/latex": [
       "\\begin{enumerate*}\n",
       "\\item 1\n",
       "\\item 2\n",
       "\\item 3\n",
       "\\item 3\n",
       "\\item 4\n",
       "\\item 5\n",
       "\\item 2\n",
       "\\end{enumerate*}\n"
      ],
      "text/markdown": [
       "1. 1\n",
       "2. 2\n",
       "3. 3\n",
       "4. 3\n",
       "5. 4\n",
       "6. 5\n",
       "7. 2\n",
       "\n",
       "\n"
      ],
      "text/plain": [
       "[1] 1 2 3 3 4 5 2"
      ]
     },
     "metadata": {},
     "output_type": "display_data"
    }
   ],
   "source": [
    "c(1,2,3,3,4,5,2)"
   ]
  },
  {
   "cell_type": "markdown",
   "id": "a0efb662-2b4e-4684-b899-6da89911c159",
   "metadata": {},
   "source": [
    "`# 예제2` -- `seq`를 이용"
   ]
  },
  {
   "cell_type": "code",
   "execution_count": 165,
   "id": "8d591965-e902-42f8-ab3b-ee918f2645b3",
   "metadata": {},
   "outputs": [
    {
     "data": {
      "text/html": [
       "<style>\n",
       ".list-inline {list-style: none; margin:0; padding: 0}\n",
       ".list-inline>li {display: inline-block}\n",
       ".list-inline>li:not(:last-child)::after {content: \"\\00b7\"; padding: 0 .5ex}\n",
       "</style>\n",
       "<ol class=list-inline><li>0</li><li>0.1</li><li>0.2</li><li>0.3</li><li>0.4</li><li>0.5</li><li>0.6</li><li>0.7</li><li>0.8</li><li>0.9</li><li>1</li><li>1.1</li><li>1.2</li><li>1.3</li><li>1.4</li><li>1.5</li><li>1.6</li><li>1.7</li><li>1.8</li><li>1.9</li><li>2</li><li>2.1</li><li>2.2</li><li>2.3</li><li>2.4</li><li>2.5</li><li>2.6</li><li>2.7</li><li>2.8</li><li>2.9</li><li>3</li><li>3.1</li><li>3.2</li><li>3.3</li><li>3.4</li><li>3.5</li><li>3.6</li><li>3.7</li><li>3.8</li><li>3.9</li><li>4</li><li>4.1</li><li>4.2</li><li>4.3</li><li>4.4</li><li>4.5</li><li>4.6</li><li>4.7</li><li>4.8</li><li>4.9</li><li>5</li><li>5.1</li><li>5.2</li><li>5.3</li><li>5.4</li><li>5.5</li><li>5.6</li><li>5.7</li><li>5.8</li><li>5.9</li><li>6</li><li>6.1</li><li>6.2</li><li>6.3</li><li>6.4</li><li>6.5</li><li>6.6</li><li>6.7</li><li>6.8</li><li>6.9</li><li>7</li><li>7.1</li><li>7.2</li><li>7.3</li><li>7.4</li><li>7.5</li><li>7.6</li><li>7.7</li><li>7.8</li><li>7.9</li><li>8</li><li>8.1</li><li>8.2</li><li>8.3</li><li>8.4</li><li>8.5</li><li>8.6</li><li>8.7</li><li>8.8</li><li>8.9</li><li>9</li><li>9.1</li><li>9.2</li><li>9.3</li><li>9.4</li><li>9.5</li><li>9.6</li><li>9.7</li><li>9.8</li><li>9.9</li><li>10</li></ol>\n"
      ],
      "text/latex": [
       "\\begin{enumerate*}\n",
       "\\item 0\n",
       "\\item 0.1\n",
       "\\item 0.2\n",
       "\\item 0.3\n",
       "\\item 0.4\n",
       "\\item 0.5\n",
       "\\item 0.6\n",
       "\\item 0.7\n",
       "\\item 0.8\n",
       "\\item 0.9\n",
       "\\item 1\n",
       "\\item 1.1\n",
       "\\item 1.2\n",
       "\\item 1.3\n",
       "\\item 1.4\n",
       "\\item 1.5\n",
       "\\item 1.6\n",
       "\\item 1.7\n",
       "\\item 1.8\n",
       "\\item 1.9\n",
       "\\item 2\n",
       "\\item 2.1\n",
       "\\item 2.2\n",
       "\\item 2.3\n",
       "\\item 2.4\n",
       "\\item 2.5\n",
       "\\item 2.6\n",
       "\\item 2.7\n",
       "\\item 2.8\n",
       "\\item 2.9\n",
       "\\item 3\n",
       "\\item 3.1\n",
       "\\item 3.2\n",
       "\\item 3.3\n",
       "\\item 3.4\n",
       "\\item 3.5\n",
       "\\item 3.6\n",
       "\\item 3.7\n",
       "\\item 3.8\n",
       "\\item 3.9\n",
       "\\item 4\n",
       "\\item 4.1\n",
       "\\item 4.2\n",
       "\\item 4.3\n",
       "\\item 4.4\n",
       "\\item 4.5\n",
       "\\item 4.6\n",
       "\\item 4.7\n",
       "\\item 4.8\n",
       "\\item 4.9\n",
       "\\item 5\n",
       "\\item 5.1\n",
       "\\item 5.2\n",
       "\\item 5.3\n",
       "\\item 5.4\n",
       "\\item 5.5\n",
       "\\item 5.6\n",
       "\\item 5.7\n",
       "\\item 5.8\n",
       "\\item 5.9\n",
       "\\item 6\n",
       "\\item 6.1\n",
       "\\item 6.2\n",
       "\\item 6.3\n",
       "\\item 6.4\n",
       "\\item 6.5\n",
       "\\item 6.6\n",
       "\\item 6.7\n",
       "\\item 6.8\n",
       "\\item 6.9\n",
       "\\item 7\n",
       "\\item 7.1\n",
       "\\item 7.2\n",
       "\\item 7.3\n",
       "\\item 7.4\n",
       "\\item 7.5\n",
       "\\item 7.6\n",
       "\\item 7.7\n",
       "\\item 7.8\n",
       "\\item 7.9\n",
       "\\item 8\n",
       "\\item 8.1\n",
       "\\item 8.2\n",
       "\\item 8.3\n",
       "\\item 8.4\n",
       "\\item 8.5\n",
       "\\item 8.6\n",
       "\\item 8.7\n",
       "\\item 8.8\n",
       "\\item 8.9\n",
       "\\item 9\n",
       "\\item 9.1\n",
       "\\item 9.2\n",
       "\\item 9.3\n",
       "\\item 9.4\n",
       "\\item 9.5\n",
       "\\item 9.6\n",
       "\\item 9.7\n",
       "\\item 9.8\n",
       "\\item 9.9\n",
       "\\item 10\n",
       "\\end{enumerate*}\n"
      ],
      "text/markdown": [
       "1. 0\n",
       "2. 0.1\n",
       "3. 0.2\n",
       "4. 0.3\n",
       "5. 0.4\n",
       "6. 0.5\n",
       "7. 0.6\n",
       "8. 0.7\n",
       "9. 0.8\n",
       "10. 0.9\n",
       "11. 1\n",
       "12. 1.1\n",
       "13. 1.2\n",
       "14. 1.3\n",
       "15. 1.4\n",
       "16. 1.5\n",
       "17. 1.6\n",
       "18. 1.7\n",
       "19. 1.8\n",
       "20. 1.9\n",
       "21. 2\n",
       "22. 2.1\n",
       "23. 2.2\n",
       "24. 2.3\n",
       "25. 2.4\n",
       "26. 2.5\n",
       "27. 2.6\n",
       "28. 2.7\n",
       "29. 2.8\n",
       "30. 2.9\n",
       "31. 3\n",
       "32. 3.1\n",
       "33. 3.2\n",
       "34. 3.3\n",
       "35. 3.4\n",
       "36. 3.5\n",
       "37. 3.6\n",
       "38. 3.7\n",
       "39. 3.8\n",
       "40. 3.9\n",
       "41. 4\n",
       "42. 4.1\n",
       "43. 4.2\n",
       "44. 4.3\n",
       "45. 4.4\n",
       "46. 4.5\n",
       "47. 4.6\n",
       "48. 4.7\n",
       "49. 4.8\n",
       "50. 4.9\n",
       "51. 5\n",
       "52. 5.1\n",
       "53. 5.2\n",
       "54. 5.3\n",
       "55. 5.4\n",
       "56. 5.5\n",
       "57. 5.6\n",
       "58. 5.7\n",
       "59. 5.8\n",
       "60. 5.9\n",
       "61. 6\n",
       "62. 6.1\n",
       "63. 6.2\n",
       "64. 6.3\n",
       "65. 6.4\n",
       "66. 6.5\n",
       "67. 6.6\n",
       "68. 6.7\n",
       "69. 6.8\n",
       "70. 6.9\n",
       "71. 7\n",
       "72. 7.1\n",
       "73. 7.2\n",
       "74. 7.3\n",
       "75. 7.4\n",
       "76. 7.5\n",
       "77. 7.6\n",
       "78. 7.7\n",
       "79. 7.8\n",
       "80. 7.9\n",
       "81. 8\n",
       "82. 8.1\n",
       "83. 8.2\n",
       "84. 8.3\n",
       "85. 8.4\n",
       "86. 8.5\n",
       "87. 8.6\n",
       "88. 8.7\n",
       "89. 8.8\n",
       "90. 8.9\n",
       "91. 9\n",
       "92. 9.1\n",
       "93. 9.2\n",
       "94. 9.3\n",
       "95. 9.4\n",
       "96. 9.5\n",
       "97. 9.6\n",
       "98. 9.7\n",
       "99. 9.8\n",
       "100. 9.9\n",
       "101. 10\n",
       "\n",
       "\n"
      ],
      "text/plain": [
       "  [1]  0.0  0.1  0.2  0.3  0.4  0.5  0.6  0.7  0.8  0.9  1.0  1.1  1.2  1.3  1.4\n",
       " [16]  1.5  1.6  1.7  1.8  1.9  2.0  2.1  2.2  2.3  2.4  2.5  2.6  2.7  2.8  2.9\n",
       " [31]  3.0  3.1  3.2  3.3  3.4  3.5  3.6  3.7  3.8  3.9  4.0  4.1  4.2  4.3  4.4\n",
       " [46]  4.5  4.6  4.7  4.8  4.9  5.0  5.1  5.2  5.3  5.4  5.5  5.6  5.7  5.8  5.9\n",
       " [61]  6.0  6.1  6.2  6.3  6.4  6.5  6.6  6.7  6.8  6.9  7.0  7.1  7.2  7.3  7.4\n",
       " [76]  7.5  7.6  7.7  7.8  7.9  8.0  8.1  8.2  8.3  8.4  8.5  8.6  8.7  8.8  8.9\n",
       " [91]  9.0  9.1  9.2  9.3  9.4  9.5  9.6  9.7  9.8  9.9 10.0"
      ]
     },
     "metadata": {},
     "output_type": "display_data"
    }
   ],
   "source": [
    "seq(from=0,to=10,by=0.1) # 0~10 까지 0.1의 간격으로 수열만들기 "
   ]
  },
  {
   "cell_type": "code",
   "execution_count": 166,
   "id": "8da7bf5c-bd5c-40dc-99f2-b9ddb74ac33f",
   "metadata": {},
   "outputs": [
    {
     "data": {
      "text/html": [
       "<style>\n",
       ".list-inline {list-style: none; margin:0; padding: 0}\n",
       ".list-inline>li {display: inline-block}\n",
       ".list-inline>li:not(:last-child)::after {content: \"\\00b7\"; padding: 0 .5ex}\n",
       "</style>\n",
       "<ol class=list-inline><li>0</li><li>0.0384615384615385</li><li>0.0769230769230769</li><li>0.115384615384615</li><li>0.153846153846154</li><li>0.192307692307692</li><li>0.230769230769231</li><li>0.269230769230769</li><li>0.307692307692308</li><li>0.346153846153846</li><li>0.384615384615385</li><li>0.423076923076923</li><li>0.461538461538462</li><li>0.5</li><li>0.538461538461539</li><li>0.576923076923077</li><li>0.615384615384615</li><li>0.653846153846154</li><li>0.692307692307692</li><li>0.730769230769231</li><li>0.769230769230769</li><li>0.807692307692308</li><li>0.846153846153846</li><li>0.884615384615385</li><li>0.923076923076923</li><li>0.961538461538462</li><li>1</li></ol>\n"
      ],
      "text/latex": [
       "\\begin{enumerate*}\n",
       "\\item 0\n",
       "\\item 0.0384615384615385\n",
       "\\item 0.0769230769230769\n",
       "\\item 0.115384615384615\n",
       "\\item 0.153846153846154\n",
       "\\item 0.192307692307692\n",
       "\\item 0.230769230769231\n",
       "\\item 0.269230769230769\n",
       "\\item 0.307692307692308\n",
       "\\item 0.346153846153846\n",
       "\\item 0.384615384615385\n",
       "\\item 0.423076923076923\n",
       "\\item 0.461538461538462\n",
       "\\item 0.5\n",
       "\\item 0.538461538461539\n",
       "\\item 0.576923076923077\n",
       "\\item 0.615384615384615\n",
       "\\item 0.653846153846154\n",
       "\\item 0.692307692307692\n",
       "\\item 0.730769230769231\n",
       "\\item 0.769230769230769\n",
       "\\item 0.807692307692308\n",
       "\\item 0.846153846153846\n",
       "\\item 0.884615384615385\n",
       "\\item 0.923076923076923\n",
       "\\item 0.961538461538462\n",
       "\\item 1\n",
       "\\end{enumerate*}\n"
      ],
      "text/markdown": [
       "1. 0\n",
       "2. 0.0384615384615385\n",
       "3. 0.0769230769230769\n",
       "4. 0.115384615384615\n",
       "5. 0.153846153846154\n",
       "6. 0.192307692307692\n",
       "7. 0.230769230769231\n",
       "8. 0.269230769230769\n",
       "9. 0.307692307692308\n",
       "10. 0.346153846153846\n",
       "11. 0.384615384615385\n",
       "12. 0.423076923076923\n",
       "13. 0.461538461538462\n",
       "14. 0.5\n",
       "15. 0.538461538461539\n",
       "16. 0.576923076923077\n",
       "17. 0.615384615384615\n",
       "18. 0.653846153846154\n",
       "19. 0.692307692307692\n",
       "20. 0.730769230769231\n",
       "21. 0.769230769230769\n",
       "22. 0.807692307692308\n",
       "23. 0.846153846153846\n",
       "24. 0.884615384615385\n",
       "25. 0.923076923076923\n",
       "26. 0.961538461538462\n",
       "27. 1\n",
       "\n",
       "\n"
      ],
      "text/plain": [
       " [1] 0.00000000 0.03846154 0.07692308 0.11538462 0.15384615 0.19230769\n",
       " [7] 0.23076923 0.26923077 0.30769231 0.34615385 0.38461538 0.42307692\n",
       "[13] 0.46153846 0.50000000 0.53846154 0.57692308 0.61538462 0.65384615\n",
       "[19] 0.69230769 0.73076923 0.76923077 0.80769231 0.84615385 0.88461538\n",
       "[25] 0.92307692 0.96153846 1.00000000"
      ]
     },
     "metadata": {},
     "output_type": "display_data"
    }
   ],
   "source": [
    "seq(from=0, to=1, length.out = 27) # 0~1 까지 등간격으로 총 27개의 수열만들기 "
   ]
  },
  {
   "cell_type": "markdown",
   "id": "e0099e06-bcf4-43f5-a957-db499a74720a",
   "metadata": {},
   "source": [
    "`# 예제3` -- `:` 를 이용 "
   ]
  },
  {
   "cell_type": "code",
   "execution_count": 167,
   "id": "6cda8399-28dd-4431-a3de-8a463c46361d",
   "metadata": {},
   "outputs": [
    {
     "data": {
      "text/html": [
       "<style>\n",
       ".list-inline {list-style: none; margin:0; padding: 0}\n",
       ".list-inline>li {display: inline-block}\n",
       ".list-inline>li:not(:last-child)::after {content: \"\\00b7\"; padding: 0 .5ex}\n",
       "</style>\n",
       "<ol class=list-inline><li>1</li><li>2</li><li>3</li><li>4</li><li>5</li><li>6</li><li>7</li><li>8</li><li>9</li><li>10</li><li>11</li><li>12</li><li>13</li><li>14</li><li>15</li><li>16</li><li>17</li><li>18</li><li>19</li><li>20</li><li>21</li><li>22</li></ol>\n"
      ],
      "text/latex": [
       "\\begin{enumerate*}\n",
       "\\item 1\n",
       "\\item 2\n",
       "\\item 3\n",
       "\\item 4\n",
       "\\item 5\n",
       "\\item 6\n",
       "\\item 7\n",
       "\\item 8\n",
       "\\item 9\n",
       "\\item 10\n",
       "\\item 11\n",
       "\\item 12\n",
       "\\item 13\n",
       "\\item 14\n",
       "\\item 15\n",
       "\\item 16\n",
       "\\item 17\n",
       "\\item 18\n",
       "\\item 19\n",
       "\\item 20\n",
       "\\item 21\n",
       "\\item 22\n",
       "\\end{enumerate*}\n"
      ],
      "text/markdown": [
       "1. 1\n",
       "2. 2\n",
       "3. 3\n",
       "4. 4\n",
       "5. 5\n",
       "6. 6\n",
       "7. 7\n",
       "8. 8\n",
       "9. 9\n",
       "10. 10\n",
       "11. 11\n",
       "12. 12\n",
       "13. 13\n",
       "14. 14\n",
       "15. 15\n",
       "16. 16\n",
       "17. 17\n",
       "18. 18\n",
       "19. 19\n",
       "20. 20\n",
       "21. 21\n",
       "22. 22\n",
       "\n",
       "\n"
      ],
      "text/plain": [
       " [1]  1  2  3  4  5  6  7  8  9 10 11 12 13 14 15 16 17 18 19 20 21 22"
      ]
     },
     "metadata": {},
     "output_type": "display_data"
    }
   ],
   "source": [
    "1:22"
   ]
  },
  {
   "cell_type": "markdown",
   "id": "7a5e72aa-dab2-43f6-8558-3627d2951437",
   "metadata": {},
   "source": [
    "이 방법을 살짝 응용하면 0~1까지 57개의 변수를 넣는 방법을 아래와 같이 할 수 있다. "
   ]
  },
  {
   "cell_type": "code",
   "execution_count": 168,
   "id": "397fefb8-f0d9-43da-a3ca-f363ac12ab8c",
   "metadata": {},
   "outputs": [
    {
     "data": {
      "text/html": [
       "<style>\n",
       ".list-inline {list-style: none; margin:0; padding: 0}\n",
       ".list-inline>li {display: inline-block}\n",
       ".list-inline>li:not(:last-child)::after {content: \"\\00b7\"; padding: 0 .5ex}\n",
       "</style>\n",
       "<ol class=list-inline><li>0</li><li>0.0178571428571429</li><li>0.0357142857142857</li><li>0.0535714285714286</li><li>0.0714285714285714</li><li>0.0892857142857143</li><li>0.107142857142857</li><li>0.125</li><li>0.142857142857143</li><li>0.160714285714286</li><li>0.178571428571429</li><li>0.196428571428571</li><li>0.214285714285714</li><li>0.232142857142857</li><li>0.25</li><li>0.267857142857143</li><li>0.285714285714286</li><li>0.303571428571429</li><li>0.321428571428571</li><li>0.339285714285714</li><li>0.357142857142857</li><li>0.375</li><li>0.392857142857143</li><li>0.410714285714286</li><li>0.428571428571429</li><li>0.446428571428571</li><li>0.464285714285714</li><li>0.482142857142857</li><li>0.5</li><li>0.517857142857143</li><li>0.535714285714286</li><li>0.553571428571429</li><li>0.571428571428571</li><li>0.589285714285714</li><li>0.607142857142857</li><li>0.625</li><li>0.642857142857143</li><li>0.660714285714286</li><li>0.678571428571429</li><li>0.696428571428571</li><li>0.714285714285714</li><li>0.732142857142857</li><li>0.75</li><li>0.767857142857143</li><li>0.785714285714286</li><li>0.803571428571429</li><li>0.821428571428571</li><li>0.839285714285714</li><li>0.857142857142857</li><li>0.875</li><li>0.892857142857143</li><li>0.910714285714286</li><li>0.928571428571429</li><li>0.946428571428571</li><li>0.964285714285714</li><li>0.982142857142857</li><li>1</li></ol>\n"
      ],
      "text/latex": [
       "\\begin{enumerate*}\n",
       "\\item 0\n",
       "\\item 0.0178571428571429\n",
       "\\item 0.0357142857142857\n",
       "\\item 0.0535714285714286\n",
       "\\item 0.0714285714285714\n",
       "\\item 0.0892857142857143\n",
       "\\item 0.107142857142857\n",
       "\\item 0.125\n",
       "\\item 0.142857142857143\n",
       "\\item 0.160714285714286\n",
       "\\item 0.178571428571429\n",
       "\\item 0.196428571428571\n",
       "\\item 0.214285714285714\n",
       "\\item 0.232142857142857\n",
       "\\item 0.25\n",
       "\\item 0.267857142857143\n",
       "\\item 0.285714285714286\n",
       "\\item 0.303571428571429\n",
       "\\item 0.321428571428571\n",
       "\\item 0.339285714285714\n",
       "\\item 0.357142857142857\n",
       "\\item 0.375\n",
       "\\item 0.392857142857143\n",
       "\\item 0.410714285714286\n",
       "\\item 0.428571428571429\n",
       "\\item 0.446428571428571\n",
       "\\item 0.464285714285714\n",
       "\\item 0.482142857142857\n",
       "\\item 0.5\n",
       "\\item 0.517857142857143\n",
       "\\item 0.535714285714286\n",
       "\\item 0.553571428571429\n",
       "\\item 0.571428571428571\n",
       "\\item 0.589285714285714\n",
       "\\item 0.607142857142857\n",
       "\\item 0.625\n",
       "\\item 0.642857142857143\n",
       "\\item 0.660714285714286\n",
       "\\item 0.678571428571429\n",
       "\\item 0.696428571428571\n",
       "\\item 0.714285714285714\n",
       "\\item 0.732142857142857\n",
       "\\item 0.75\n",
       "\\item 0.767857142857143\n",
       "\\item 0.785714285714286\n",
       "\\item 0.803571428571429\n",
       "\\item 0.821428571428571\n",
       "\\item 0.839285714285714\n",
       "\\item 0.857142857142857\n",
       "\\item 0.875\n",
       "\\item 0.892857142857143\n",
       "\\item 0.910714285714286\n",
       "\\item 0.928571428571429\n",
       "\\item 0.946428571428571\n",
       "\\item 0.964285714285714\n",
       "\\item 0.982142857142857\n",
       "\\item 1\n",
       "\\end{enumerate*}\n"
      ],
      "text/markdown": [
       "1. 0\n",
       "2. 0.0178571428571429\n",
       "3. 0.0357142857142857\n",
       "4. 0.0535714285714286\n",
       "5. 0.0714285714285714\n",
       "6. 0.0892857142857143\n",
       "7. 0.107142857142857\n",
       "8. 0.125\n",
       "9. 0.142857142857143\n",
       "10. 0.160714285714286\n",
       "11. 0.178571428571429\n",
       "12. 0.196428571428571\n",
       "13. 0.214285714285714\n",
       "14. 0.232142857142857\n",
       "15. 0.25\n",
       "16. 0.267857142857143\n",
       "17. 0.285714285714286\n",
       "18. 0.303571428571429\n",
       "19. 0.321428571428571\n",
       "20. 0.339285714285714\n",
       "21. 0.357142857142857\n",
       "22. 0.375\n",
       "23. 0.392857142857143\n",
       "24. 0.410714285714286\n",
       "25. 0.428571428571429\n",
       "26. 0.446428571428571\n",
       "27. 0.464285714285714\n",
       "28. 0.482142857142857\n",
       "29. 0.5\n",
       "30. 0.517857142857143\n",
       "31. 0.535714285714286\n",
       "32. 0.553571428571429\n",
       "33. 0.571428571428571\n",
       "34. 0.589285714285714\n",
       "35. 0.607142857142857\n",
       "36. 0.625\n",
       "37. 0.642857142857143\n",
       "38. 0.660714285714286\n",
       "39. 0.678571428571429\n",
       "40. 0.696428571428571\n",
       "41. 0.714285714285714\n",
       "42. 0.732142857142857\n",
       "43. 0.75\n",
       "44. 0.767857142857143\n",
       "45. 0.785714285714286\n",
       "46. 0.803571428571429\n",
       "47. 0.821428571428571\n",
       "48. 0.839285714285714\n",
       "49. 0.857142857142857\n",
       "50. 0.875\n",
       "51. 0.892857142857143\n",
       "52. 0.910714285714286\n",
       "53. 0.928571428571429\n",
       "54. 0.946428571428571\n",
       "55. 0.964285714285714\n",
       "56. 0.982142857142857\n",
       "57. 1\n",
       "\n",
       "\n"
      ],
      "text/plain": [
       " [1] 0.00000000 0.01785714 0.03571429 0.05357143 0.07142857 0.08928571\n",
       " [7] 0.10714286 0.12500000 0.14285714 0.16071429 0.17857143 0.19642857\n",
       "[13] 0.21428571 0.23214286 0.25000000 0.26785714 0.28571429 0.30357143\n",
       "[19] 0.32142857 0.33928571 0.35714286 0.37500000 0.39285714 0.41071429\n",
       "[25] 0.42857143 0.44642857 0.46428571 0.48214286 0.50000000 0.51785714\n",
       "[31] 0.53571429 0.55357143 0.57142857 0.58928571 0.60714286 0.62500000\n",
       "[37] 0.64285714 0.66071429 0.67857143 0.69642857 0.71428571 0.73214286\n",
       "[43] 0.75000000 0.76785714 0.78571429 0.80357143 0.82142857 0.83928571\n",
       "[49] 0.85714286 0.87500000 0.89285714 0.91071429 0.92857143 0.94642857\n",
       "[55] 0.96428571 0.98214286 1.00000000"
      ]
     },
     "metadata": {},
     "output_type": "display_data"
    }
   ],
   "source": [
    "0:56 / 56"
   ]
  },
  {
   "cell_type": "markdown",
   "id": "26b59a41-77a6-4813-893c-458d3da5ffc6",
   "metadata": {},
   "source": [
    "물론 아래와 같이하는것이 더 가독성이 좋다. "
   ]
  },
  {
   "cell_type": "code",
   "execution_count": 169,
   "id": "aaf9eea0-94dc-4f15-aa26-02a9f9a91772",
   "metadata": {},
   "outputs": [
    {
     "data": {
      "text/html": [
       "<style>\n",
       ".list-inline {list-style: none; margin:0; padding: 0}\n",
       ".list-inline>li {display: inline-block}\n",
       ".list-inline>li:not(:last-child)::after {content: \"\\00b7\"; padding: 0 .5ex}\n",
       "</style>\n",
       "<ol class=list-inline><li>0</li><li>0.0178571428571429</li><li>0.0357142857142857</li><li>0.0535714285714286</li><li>0.0714285714285714</li><li>0.0892857142857143</li><li>0.107142857142857</li><li>0.125</li><li>0.142857142857143</li><li>0.160714285714286</li><li>0.178571428571429</li><li>0.196428571428571</li><li>0.214285714285714</li><li>0.232142857142857</li><li>0.25</li><li>0.267857142857143</li><li>0.285714285714286</li><li>0.303571428571429</li><li>0.321428571428571</li><li>0.339285714285714</li><li>0.357142857142857</li><li>0.375</li><li>0.392857142857143</li><li>0.410714285714286</li><li>0.428571428571429</li><li>0.446428571428571</li><li>0.464285714285714</li><li>0.482142857142857</li><li>0.5</li><li>0.517857142857143</li><li>0.535714285714286</li><li>0.553571428571428</li><li>0.571428571428571</li><li>0.589285714285714</li><li>0.607142857142857</li><li>0.625</li><li>0.642857142857143</li><li>0.660714285714286</li><li>0.678571428571428</li><li>0.696428571428571</li><li>0.714285714285714</li><li>0.732142857142857</li><li>0.75</li><li>0.767857142857143</li><li>0.785714285714286</li><li>0.803571428571428</li><li>0.821428571428571</li><li>0.839285714285714</li><li>0.857142857142857</li><li>0.875</li><li>0.892857142857143</li><li>0.910714285714286</li><li>0.928571428571428</li><li>0.946428571428571</li><li>0.964285714285714</li><li>0.982142857142857</li><li>1</li></ol>\n"
      ],
      "text/latex": [
       "\\begin{enumerate*}\n",
       "\\item 0\n",
       "\\item 0.0178571428571429\n",
       "\\item 0.0357142857142857\n",
       "\\item 0.0535714285714286\n",
       "\\item 0.0714285714285714\n",
       "\\item 0.0892857142857143\n",
       "\\item 0.107142857142857\n",
       "\\item 0.125\n",
       "\\item 0.142857142857143\n",
       "\\item 0.160714285714286\n",
       "\\item 0.178571428571429\n",
       "\\item 0.196428571428571\n",
       "\\item 0.214285714285714\n",
       "\\item 0.232142857142857\n",
       "\\item 0.25\n",
       "\\item 0.267857142857143\n",
       "\\item 0.285714285714286\n",
       "\\item 0.303571428571429\n",
       "\\item 0.321428571428571\n",
       "\\item 0.339285714285714\n",
       "\\item 0.357142857142857\n",
       "\\item 0.375\n",
       "\\item 0.392857142857143\n",
       "\\item 0.410714285714286\n",
       "\\item 0.428571428571429\n",
       "\\item 0.446428571428571\n",
       "\\item 0.464285714285714\n",
       "\\item 0.482142857142857\n",
       "\\item 0.5\n",
       "\\item 0.517857142857143\n",
       "\\item 0.535714285714286\n",
       "\\item 0.553571428571428\n",
       "\\item 0.571428571428571\n",
       "\\item 0.589285714285714\n",
       "\\item 0.607142857142857\n",
       "\\item 0.625\n",
       "\\item 0.642857142857143\n",
       "\\item 0.660714285714286\n",
       "\\item 0.678571428571428\n",
       "\\item 0.696428571428571\n",
       "\\item 0.714285714285714\n",
       "\\item 0.732142857142857\n",
       "\\item 0.75\n",
       "\\item 0.767857142857143\n",
       "\\item 0.785714285714286\n",
       "\\item 0.803571428571428\n",
       "\\item 0.821428571428571\n",
       "\\item 0.839285714285714\n",
       "\\item 0.857142857142857\n",
       "\\item 0.875\n",
       "\\item 0.892857142857143\n",
       "\\item 0.910714285714286\n",
       "\\item 0.928571428571428\n",
       "\\item 0.946428571428571\n",
       "\\item 0.964285714285714\n",
       "\\item 0.982142857142857\n",
       "\\item 1\n",
       "\\end{enumerate*}\n"
      ],
      "text/markdown": [
       "1. 0\n",
       "2. 0.0178571428571429\n",
       "3. 0.0357142857142857\n",
       "4. 0.0535714285714286\n",
       "5. 0.0714285714285714\n",
       "6. 0.0892857142857143\n",
       "7. 0.107142857142857\n",
       "8. 0.125\n",
       "9. 0.142857142857143\n",
       "10. 0.160714285714286\n",
       "11. 0.178571428571429\n",
       "12. 0.196428571428571\n",
       "13. 0.214285714285714\n",
       "14. 0.232142857142857\n",
       "15. 0.25\n",
       "16. 0.267857142857143\n",
       "17. 0.285714285714286\n",
       "18. 0.303571428571429\n",
       "19. 0.321428571428571\n",
       "20. 0.339285714285714\n",
       "21. 0.357142857142857\n",
       "22. 0.375\n",
       "23. 0.392857142857143\n",
       "24. 0.410714285714286\n",
       "25. 0.428571428571429\n",
       "26. 0.446428571428571\n",
       "27. 0.464285714285714\n",
       "28. 0.482142857142857\n",
       "29. 0.5\n",
       "30. 0.517857142857143\n",
       "31. 0.535714285714286\n",
       "32. 0.553571428571428\n",
       "33. 0.571428571428571\n",
       "34. 0.589285714285714\n",
       "35. 0.607142857142857\n",
       "36. 0.625\n",
       "37. 0.642857142857143\n",
       "38. 0.660714285714286\n",
       "39. 0.678571428571428\n",
       "40. 0.696428571428571\n",
       "41. 0.714285714285714\n",
       "42. 0.732142857142857\n",
       "43. 0.75\n",
       "44. 0.767857142857143\n",
       "45. 0.785714285714286\n",
       "46. 0.803571428571428\n",
       "47. 0.821428571428571\n",
       "48. 0.839285714285714\n",
       "49. 0.857142857142857\n",
       "50. 0.875\n",
       "51. 0.892857142857143\n",
       "52. 0.910714285714286\n",
       "53. 0.928571428571428\n",
       "54. 0.946428571428571\n",
       "55. 0.964285714285714\n",
       "56. 0.982142857142857\n",
       "57. 1\n",
       "\n",
       "\n"
      ],
      "text/plain": [
       " [1] 0.00000000 0.01785714 0.03571429 0.05357143 0.07142857 0.08928571\n",
       " [7] 0.10714286 0.12500000 0.14285714 0.16071429 0.17857143 0.19642857\n",
       "[13] 0.21428571 0.23214286 0.25000000 0.26785714 0.28571429 0.30357143\n",
       "[19] 0.32142857 0.33928571 0.35714286 0.37500000 0.39285714 0.41071429\n",
       "[25] 0.42857143 0.44642857 0.46428571 0.48214286 0.50000000 0.51785714\n",
       "[31] 0.53571429 0.55357143 0.57142857 0.58928571 0.60714286 0.62500000\n",
       "[37] 0.64285714 0.66071429 0.67857143 0.69642857 0.71428571 0.73214286\n",
       "[43] 0.75000000 0.76785714 0.78571429 0.80357143 0.82142857 0.83928571\n",
       "[49] 0.85714286 0.87500000 0.89285714 0.91071429 0.92857143 0.94642857\n",
       "[55] 0.96428571 0.98214286 1.00000000"
      ]
     },
     "metadata": {},
     "output_type": "display_data"
    }
   ],
   "source": [
    "seq(from=0,to=1,length.out =57)"
   ]
  },
  {
   "cell_type": "markdown",
   "id": "5a4c873b-52f6-4216-9c26-71058a6177bb",
   "metadata": {},
   "source": [
    "`#`"
   ]
  },
  {
   "cell_type": "markdown",
   "id": "b50f0968-02b3-4593-b155-8b48dd742dfc",
   "metadata": {},
   "source": [
    "`# 예제4` -- `rep` 를 이용 "
   ]
  },
  {
   "cell_type": "code",
   "execution_count": 170,
   "id": "0a202f1b-822e-4590-a72e-a9d5763702f3",
   "metadata": {},
   "outputs": [
    {
     "data": {
      "text/html": [
       "<style>\n",
       ".list-inline {list-style: none; margin:0; padding: 0}\n",
       ".list-inline>li {display: inline-block}\n",
       ".list-inline>li:not(:last-child)::after {content: \"\\00b7\"; padding: 0 .5ex}\n",
       "</style>\n",
       "<ol class=list-inline><li>0</li><li>0</li><li>0</li><li>0</li><li>0</li><li>0</li><li>0</li><li>0</li><li>0</li><li>0</li><li>0</li><li>0</li><li>0</li><li>0</li><li>0</li><li>0</li><li>0</li><li>0</li><li>0</li><li>0</li><li>0</li><li>0</li><li>0</li><li>0</li><li>0</li><li>0</li><li>0</li><li>0</li><li>0</li><li>0</li><li>0</li><li>0</li><li>0</li><li>0</li><li>0</li><li>0</li><li>0</li><li>0</li><li>0</li><li>0</li><li>0</li><li>0</li><li>0</li><li>0</li><li>0</li><li>0</li><li>0</li><li>0</li><li>0</li><li>0</li><li>0</li><li>0</li><li>0</li><li>0</li><li>0</li><li>0</li><li>0</li><li>0</li><li>0</li><li>0</li><li>0</li><li>0</li><li>0</li><li>0</li><li>0</li><li>0</li><li>0</li><li>0</li><li>0</li><li>0</li><li>0</li><li>0</li><li>0</li><li>0</li><li>0</li><li>0</li><li>0</li><li>0</li><li>0</li><li>0</li><li>0</li><li>0</li><li>0</li><li>0</li><li>0</li><li>0</li><li>0</li><li>0</li><li>0</li><li>0</li><li>0</li><li>0</li><li>0</li><li>0</li><li>0</li><li>0</li><li>0</li><li>0</li><li>0</li><li>0</li></ol>\n"
      ],
      "text/latex": [
       "\\begin{enumerate*}\n",
       "\\item 0\n",
       "\\item 0\n",
       "\\item 0\n",
       "\\item 0\n",
       "\\item 0\n",
       "\\item 0\n",
       "\\item 0\n",
       "\\item 0\n",
       "\\item 0\n",
       "\\item 0\n",
       "\\item 0\n",
       "\\item 0\n",
       "\\item 0\n",
       "\\item 0\n",
       "\\item 0\n",
       "\\item 0\n",
       "\\item 0\n",
       "\\item 0\n",
       "\\item 0\n",
       "\\item 0\n",
       "\\item 0\n",
       "\\item 0\n",
       "\\item 0\n",
       "\\item 0\n",
       "\\item 0\n",
       "\\item 0\n",
       "\\item 0\n",
       "\\item 0\n",
       "\\item 0\n",
       "\\item 0\n",
       "\\item 0\n",
       "\\item 0\n",
       "\\item 0\n",
       "\\item 0\n",
       "\\item 0\n",
       "\\item 0\n",
       "\\item 0\n",
       "\\item 0\n",
       "\\item 0\n",
       "\\item 0\n",
       "\\item 0\n",
       "\\item 0\n",
       "\\item 0\n",
       "\\item 0\n",
       "\\item 0\n",
       "\\item 0\n",
       "\\item 0\n",
       "\\item 0\n",
       "\\item 0\n",
       "\\item 0\n",
       "\\item 0\n",
       "\\item 0\n",
       "\\item 0\n",
       "\\item 0\n",
       "\\item 0\n",
       "\\item 0\n",
       "\\item 0\n",
       "\\item 0\n",
       "\\item 0\n",
       "\\item 0\n",
       "\\item 0\n",
       "\\item 0\n",
       "\\item 0\n",
       "\\item 0\n",
       "\\item 0\n",
       "\\item 0\n",
       "\\item 0\n",
       "\\item 0\n",
       "\\item 0\n",
       "\\item 0\n",
       "\\item 0\n",
       "\\item 0\n",
       "\\item 0\n",
       "\\item 0\n",
       "\\item 0\n",
       "\\item 0\n",
       "\\item 0\n",
       "\\item 0\n",
       "\\item 0\n",
       "\\item 0\n",
       "\\item 0\n",
       "\\item 0\n",
       "\\item 0\n",
       "\\item 0\n",
       "\\item 0\n",
       "\\item 0\n",
       "\\item 0\n",
       "\\item 0\n",
       "\\item 0\n",
       "\\item 0\n",
       "\\item 0\n",
       "\\item 0\n",
       "\\item 0\n",
       "\\item 0\n",
       "\\item 0\n",
       "\\item 0\n",
       "\\item 0\n",
       "\\item 0\n",
       "\\item 0\n",
       "\\item 0\n",
       "\\end{enumerate*}\n"
      ],
      "text/markdown": [
       "1. 0\n",
       "2. 0\n",
       "3. 0\n",
       "4. 0\n",
       "5. 0\n",
       "6. 0\n",
       "7. 0\n",
       "8. 0\n",
       "9. 0\n",
       "10. 0\n",
       "11. 0\n",
       "12. 0\n",
       "13. 0\n",
       "14. 0\n",
       "15. 0\n",
       "16. 0\n",
       "17. 0\n",
       "18. 0\n",
       "19. 0\n",
       "20. 0\n",
       "21. 0\n",
       "22. 0\n",
       "23. 0\n",
       "24. 0\n",
       "25. 0\n",
       "26. 0\n",
       "27. 0\n",
       "28. 0\n",
       "29. 0\n",
       "30. 0\n",
       "31. 0\n",
       "32. 0\n",
       "33. 0\n",
       "34. 0\n",
       "35. 0\n",
       "36. 0\n",
       "37. 0\n",
       "38. 0\n",
       "39. 0\n",
       "40. 0\n",
       "41. 0\n",
       "42. 0\n",
       "43. 0\n",
       "44. 0\n",
       "45. 0\n",
       "46. 0\n",
       "47. 0\n",
       "48. 0\n",
       "49. 0\n",
       "50. 0\n",
       "51. 0\n",
       "52. 0\n",
       "53. 0\n",
       "54. 0\n",
       "55. 0\n",
       "56. 0\n",
       "57. 0\n",
       "58. 0\n",
       "59. 0\n",
       "60. 0\n",
       "61. 0\n",
       "62. 0\n",
       "63. 0\n",
       "64. 0\n",
       "65. 0\n",
       "66. 0\n",
       "67. 0\n",
       "68. 0\n",
       "69. 0\n",
       "70. 0\n",
       "71. 0\n",
       "72. 0\n",
       "73. 0\n",
       "74. 0\n",
       "75. 0\n",
       "76. 0\n",
       "77. 0\n",
       "78. 0\n",
       "79. 0\n",
       "80. 0\n",
       "81. 0\n",
       "82. 0\n",
       "83. 0\n",
       "84. 0\n",
       "85. 0\n",
       "86. 0\n",
       "87. 0\n",
       "88. 0\n",
       "89. 0\n",
       "90. 0\n",
       "91. 0\n",
       "92. 0\n",
       "93. 0\n",
       "94. 0\n",
       "95. 0\n",
       "96. 0\n",
       "97. 0\n",
       "98. 0\n",
       "99. 0\n",
       "100. 0\n",
       "\n",
       "\n"
      ],
      "text/plain": [
       "  [1] 0 0 0 0 0 0 0 0 0 0 0 0 0 0 0 0 0 0 0 0 0 0 0 0 0 0 0 0 0 0 0 0 0 0 0 0 0\n",
       " [38] 0 0 0 0 0 0 0 0 0 0 0 0 0 0 0 0 0 0 0 0 0 0 0 0 0 0 0 0 0 0 0 0 0 0 0 0 0\n",
       " [75] 0 0 0 0 0 0 0 0 0 0 0 0 0 0 0 0 0 0 0 0 0 0 0 0 0 0"
      ]
     },
     "metadata": {},
     "output_type": "display_data"
    }
   ],
   "source": [
    "rep(0,100)"
   ]
  },
  {
   "cell_type": "markdown",
   "id": "a0b1959d-b069-45bf-8e4e-40a1a5dbed2e",
   "metadata": {},
   "source": [
    "`#`"
   ]
  },
  {
   "cell_type": "markdown",
   "id": "aefd8d6a-fc27-4146-8a1e-5dccb768125a",
   "metadata": {},
   "source": [
    "## 4. 함수사용하는 방법"
   ]
  },
  {
   "cell_type": "markdown",
   "id": "2f8243a5-3f9c-485a-a802-3e3b79fc823f",
   "metadata": {},
   "source": [
    "`-` 기본 구조"
   ]
  },
  {
   "cell_type": "markdown",
   "id": "477fb851-d183-4fbd-9816-844f80e6844c",
   "metadata": {},
   "source": [
    "```r\n",
    "함수이름 <- function(입력){\n",
    "    함수의 기능 \n",
    "    return(출력)\n",
    "    }\n",
    "```"
   ]
  },
  {
   "cell_type": "code",
   "execution_count": 171,
   "id": "d88afb49-5d53-46ba-82a1-032e686ff673",
   "metadata": {},
   "outputs": [],
   "source": [
    "solve <- function(input){\n",
    "    theta = acos(input) - pi/2\n",
    "    output = sin(theta)/(1-cos(theta)^2)\n",
    "    return(output)\n",
    "}"
   ]
  },
  {
   "cell_type": "code",
   "execution_count": 172,
   "id": "d4b4e2fe-14f3-4ada-8c1a-355fc9766d66",
   "metadata": {},
   "outputs": [
    {
     "data": {
      "text/html": [
       "-1.02155038002469"
      ],
      "text/latex": [
       "-1.02155038002469"
      ],
      "text/markdown": [
       "-1.02155038002469"
      ],
      "text/plain": [
       "[1] -1.02155"
      ]
     },
     "metadata": {},
     "output_type": "display_data"
    }
   ],
   "source": [
    "solve(-1/5)"
   ]
  },
  {
   "cell_type": "markdown",
   "id": "ae743903-3cb7-4855-b300-26ff99972a50",
   "metadata": {},
   "source": [
    "`-` 아래의 2개의 코드는 `거의` 같다. "
   ]
  },
  {
   "cell_type": "code",
   "execution_count": 173,
   "id": "e60e88c0-40c8-4862-bb63-6025d8901be2",
   "metadata": {},
   "outputs": [
    {
     "data": {
      "text/html": [
       "-1.02155038002469"
      ],
      "text/latex": [
       "-1.02155038002469"
      ],
      "text/markdown": [
       "-1.02155038002469"
      ],
      "text/plain": [
       "[1] -1.02155"
      ]
     },
     "metadata": {},
     "output_type": "display_data"
    },
    {
     "data": {
      "text/html": [
       "-1.02155038002469"
      ],
      "text/latex": [
       "-1.02155038002469"
      ],
      "text/markdown": [
       "-1.02155038002469"
      ],
      "text/plain": [
       "[1] -1.02155"
      ]
     },
     "metadata": {},
     "output_type": "display_data"
    }
   ],
   "source": [
    "### 1 \n",
    "solve <- function(input){\n",
    "    theta = acos(input) - pi/2\n",
    "    output = sin(theta)/(1-cos(theta)^2)\n",
    "    return(output)\n",
    "}\n",
    "solve(-1/5)\n",
    "\n",
    "### 2\n",
    "input = -1/5 \n",
    "theta = acos(input) - pi/2\n",
    "output = sin(theta)/(1-cos(theta)^2)\n",
    "output"
   ]
  },
  {
   "cell_type": "markdown",
   "id": "68f8ed85-4561-4896-9ed4-b034f576d839",
   "metadata": {},
   "source": [
    "`-` return을 생략해도 괜찮다. "
   ]
  },
  {
   "cell_type": "code",
   "execution_count": 174,
   "id": "8ed32d4e-8318-4c70-aca4-26e59fa87969",
   "metadata": {},
   "outputs": [
    {
     "data": {
      "text/html": [
       "-1.02155038002469"
      ],
      "text/latex": [
       "-1.02155038002469"
      ],
      "text/markdown": [
       "-1.02155038002469"
      ],
      "text/plain": [
       "[1] -1.02155"
      ]
     },
     "metadata": {},
     "output_type": "display_data"
    }
   ],
   "source": [
    "solve <- function(input){\n",
    "    theta = acos(input) - pi/2\n",
    "    sin(theta)/(1-cos(theta)^2)\n",
    "}\n",
    "solve(-1/5)"
   ]
  }
 ],
 "metadata": {
  "kernelspec": {
   "display_name": "R",
   "language": "R",
   "name": "ir"
  },
  "language_info": {
   "codemirror_mode": "r",
   "file_extension": ".r",
   "mimetype": "text/x-r-source",
   "name": "R",
   "pygments_lexer": "r",
   "version": "4.4.2"
  }
 },
 "nbformat": 4,
 "nbformat_minor": 5
}
